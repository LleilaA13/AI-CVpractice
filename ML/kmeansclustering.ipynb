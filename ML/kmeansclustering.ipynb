{
 "cells": [
  {
   "cell_type": "code",
   "execution_count": 1,
   "metadata": {},
   "outputs": [],
   "source": [
    "#Let's start by randomly initializing K cluster centroids\n",
    "import numpy as np\n",
    "def initialize_centroids(X, K):\n",
    "    m, n = np.shape(X)\n",
    "    centroids = np.empty((K, n)) #K x n matrix\n",
    "    for i in range(K):\n",
    "        centroids[i] = X[np.random.choice(range(m))] # randomly select a row from X\n",
    "    return centroids"
   ]
  },
  {
   "cell_type": "code",
   "execution_count": null,
   "metadata": {},
   "outputs": [],
   "source": [
    "#Compute euclidean distance between two vectors\n",
    "def euclidean_distance(x1, x2):\n",
    "    return np.sqrt(np.sum((x1 - x2)**2))\n"
   ]
  },
  {
   "cell_type": "code",
   "execution_count": null,
   "metadata": {},
   "outputs": [],
   "source": [
    "def closest_centroid(x, centroids, K):\n",
    "    distances = np.empty(K)\n",
    "    for i in range(K):\n",
    "        distances[i] = euclidean_distance(centroids[i], x)\n",
    "    return np.argmin(distances)"
   ]
  },
  {
   "cell_type": "code",
   "execution_count": null,
   "metadata": {},
   "outputs": [],
   "source": [
    "#create the clusters\n",
    "def create_clusters(X, centroids, K):\n",
    "    m , _= np.shape(X)\n",
    "    clusters = np.empty(m)\n",
    "    for i in range(m):\n",
    "        clusters[i] = closest_centroid(X[i], centroids, K)\n",
    "    return clusters"
   ]
  },
  {
   "cell_type": "code",
   "execution_count": null,
   "metadata": {},
   "outputs": [],
   "source": [
    "#compute the means of the clusters\n",
    "def compute_means(X, clusters, K):\n",
    "    _, n = np.shape(X)\n",
    "    centroids = np.empty((K, n))\n",
    "    for i in range(K):\n",
    "        centroids[i] = np.mean(X[clusters == i], axis=0)\n",
    "    return centroids"
   ]
  },
  {
   "cell_type": "code",
   "execution_count": null,
   "metadata": {},
   "outputs": [],
   "source": [
    "def run_kmeans(X, K, max_iters):\n",
    "    centroids = initialize_centroids(X, K)\n",
    "    print(f\"Inital centroids: {centroids}\")\n",
    "    for _ in range(max_iters):\n",
    "        clusters = create_clusters(X, centroids, K)\n",
    "        prev_centroids = centroids\n",
    "        centroids = compute_means(X, clusters, K)\n",
    "        diff = prev_centroids - centroids\n",
    "        if not diff.any():\n",
    "            return clusters\n",
    "    return clusters"
   ]
  },
  {
   "cell_type": "code",
   "execution_count": null,
   "metadata": {},
   "outputs": [],
   "source": [
    "#testing:\n",
    "from sklearn import datasets\n",
    "X, y = datasets.make_blobs()\n",
    "y_preds = run_kmeans(3, X)"
   ]
  },
  {
   "cell_type": "code",
   "execution_count": null,
   "metadata": {},
   "outputs": [],
   "source": [
    "import matplotlib.pyplot as plt\n"
   ]
  }
 ],
 "metadata": {
  "kernelspec": {
   "display_name": "base",
   "language": "python",
   "name": "python3"
  },
  "language_info": {
   "codemirror_mode": {
    "name": "ipython",
    "version": 3
   },
   "file_extension": ".py",
   "mimetype": "text/x-python",
   "name": "python",
   "nbconvert_exporter": "python",
   "pygments_lexer": "ipython3",
   "version": "3.11.8"
  }
 },
 "nbformat": 4,
 "nbformat_minor": 2
}
