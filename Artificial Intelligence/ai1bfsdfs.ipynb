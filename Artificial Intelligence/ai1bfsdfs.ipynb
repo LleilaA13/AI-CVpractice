{
 "cells": [
  {
   "cell_type": "code",
   "execution_count": 10,
   "metadata": {},
   "outputs": [],
   "source": [
    "from __future__ import annotations\n",
    "from typing import Protocol, List, TypeVar , Optional\n",
    "import collections\n",
    "\n",
    "T = TypeVar('T')\n",
    "Location = TypeVar('Location')\n",
    "\n"
   ]
  },
  {
   "cell_type": "code",
   "execution_count": 11,
   "metadata": {},
   "outputs": [],
   "source": [
    "class Graph(Protocol):\n",
    "    def neighbor(self, id: Location)-> List[Location]:\n",
    "        pass\n",
    "\n",
    "class SimpleGraph(Graph):\n",
    "    def __init__(self) -> None:\n",
    "        self.edges : dict[Location, List[Location]] = {}\n",
    "\n",
    "    def neighbor(self, id: Location) -> List[Location] :\n",
    "        return self.edges.get(id, [])"
   ]
  },
  {
   "cell_type": "code",
   "execution_count": 12,
   "metadata": {},
   "outputs": [],
   "source": [
    "class Queue:\n",
    "    def __init__(self) -> None: #no output\n",
    "        self.elements: collections.deque[T] = collections.deque() #build stacks heaps, insert objects, \n",
    "        return                                    #chance to pop the elements both from the start and the end\n",
    "    def empty(self) -> bool:\n",
    "        return not self.elements\n",
    "    #checks if in queue we have els\n",
    "    def put(self, x: T) -> None:\n",
    "        self.elements.append(x)\n",
    "        return\n",
    "    def get(self) -> T:\n",
    "        return self.elements.popleft() #.pop() if DFS"
   ]
  },
  {
   "cell_type": "code",
   "execution_count": 13,
   "metadata": {},
   "outputs": [],
   "source": [
    "example_graph = SimpleGraph()"
   ]
  },
  {
   "cell_type": "code",
   "execution_count": 14,
   "metadata": {},
   "outputs": [],
   "source": [
    "example_graph.edges = {\n",
    "    'A':['B'],\n",
    "    'B' : ['C'],\n",
    "    'C': ['B', 'D', 'F'],\n",
    "    'D' : ['C', 'E'],\n",
    "    'E': ['F'],\n",
    "    'F' : []\n",
    "}"
   ]
  },
  {
   "cell_type": "code",
   "execution_count": 15,
   "metadata": {},
   "outputs": [],
   "source": [
    "def bfs(graph: Graph, start: Location) -> None:\n",
    "    frontier = Queue()\n",
    "    frontier.put(start)\n",
    "    reached: dict[Location, bool] = {start: True}\n",
    "    while not frontier.empty():\n",
    "        current: Location = frontier.get()\n",
    "        print(f\"Visiting {current}\")\n",
    "        for next_location in graph.neighbor(current):\n",
    "            if next_location not in reached:\n",
    "                frontier.put(next_location)\n",
    "                reached[next_location] = True"
   ]
  },
  {
   "cell_type": "code",
   "execution_count": 16,
   "metadata": {},
   "outputs": [
    {
     "name": "stdout",
     "output_type": "stream",
     "text": [
      "Visiting E\n",
      "Visiting F\n"
     ]
    }
   ],
   "source": [
    "bfs(example_graph, 'E')"
   ]
  }
 ],
 "metadata": {
  "kernelspec": {
   "display_name": "base",
   "language": "python",
   "name": "python3"
  },
  "language_info": {
   "codemirror_mode": {
    "name": "ipython",
    "version": 3
   },
   "file_extension": ".py",
   "mimetype": "text/x-python",
   "name": "python",
   "nbconvert_exporter": "python",
   "pygments_lexer": "ipython3",
   "version": "3.11.8"
  }
 },
 "nbformat": 4,
 "nbformat_minor": 2
}
