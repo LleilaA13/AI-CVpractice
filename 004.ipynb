{
  "cells": [
    {
      "cell_type": "code",
      "execution_count": 2,
      "metadata": {
        "colab": {
          "base_uri": "https://localhost:8080/"
        },
        "id": "J9r7NMvnjJad",
        "outputId": "962667b6-6ae5-44a2-826f-524a29f8d4ac"
      },
      "outputs": [
        {
          "name": "stdout",
          "output_type": "stream",
          "text": [
            "__________________________________________________________________________________________\n",
            " ⋅  ⋅  ⋅  ⋅  ⋅  ⋅  ⋅  ⋅  ⋅  ⋅  ⋅  ⋅  ⋅  ⋅  ⋅  ⋅  ⋅  ⋅  ⋅  ⋅  ⋅ ###### ⋅  ⋅  ⋅  ⋅  ⋅  ⋅  ⋅ \n",
            " ⋅  ⋅  ⋅  ⋅  ⋅  ⋅  ⋅  ⋅  ⋅  ⋅  ⋅  ⋅  ⋅  ⋅  ⋅  ⋅  ⋅  ⋅  ⋅  ⋅  ⋅ ###### ⋅  ⋅  ⋅  ⋅  ⋅  ⋅  ⋅ \n",
            " ⋅  ⋅  ⋅  ⋅  ⋅  ⋅  ⋅  ⋅  ⋅  ⋅  ⋅  ⋅  ⋅  ⋅  ⋅  ⋅  ⋅  ⋅  ⋅  ⋅  ⋅ ###### ⋅  ⋅  ⋅  ⋅  ⋅  ⋅  ⋅ \n",
            " ⋅  ⋅  ⋅ ###### ⋅  ⋅  ⋅  ⋅  ⋅  ⋅  ⋅  ⋅  ⋅  ⋅  ⋅  ⋅  ⋅  ⋅  ⋅  ⋅ ###### ⋅  ⋅  ⋅  ⋅  ⋅  ⋅  ⋅ \n",
            " ⋅  ⋅  ⋅ ###### ⋅  ⋅  ⋅  ⋅  ⋅  ⋅  ⋅  ⋅ ###### ⋅  ⋅  ⋅  ⋅  ⋅  ⋅ ###### ⋅  ⋅  ⋅  ⋅  ⋅  ⋅  ⋅ \n",
            " ⋅  ⋅  ⋅ ###### ⋅  ⋅  ⋅  ⋅  ⋅  ⋅  ⋅  ⋅ ###### ⋅  ⋅  ⋅  ⋅  ⋅  ⋅ ############### ⋅  ⋅  ⋅  ⋅ \n",
            " ⋅  ⋅  ⋅ ###### ⋅  ⋅  ⋅  ⋅  ⋅  ⋅  ⋅  ⋅ ###### ⋅  ⋅  ⋅  ⋅  ⋅  ⋅ ############### ⋅  ⋅  ⋅  ⋅ \n",
            " ⋅  ⋅  ⋅ ###### ⋅  ⋅  ⋅  S  ⋅  ⋅  ⋅  ⋅ ###### ⋅  ⋅  ⋅  ⋅  ⋅  ⋅  ⋅  ⋅  ⋅  ⋅  ⋅  ⋅  ⋅  ⋅  ⋅ \n",
            " ⋅  ⋅  ⋅ ###### ⋅  ⋅  ⋅  ⋅  ⋅  ⋅  ⋅  ⋅ ###### ⋅  ⋅  ⋅  G  ⋅  ⋅  ⋅  ⋅  ⋅  ⋅  ⋅  ⋅  ⋅  ⋅  ⋅ \n",
            " ⋅  ⋅  ⋅ ###### ⋅  ⋅  ⋅  ⋅  ⋅  ⋅  ⋅  ⋅ ###### ⋅  ⋅  ⋅  ⋅  ⋅  ⋅  ⋅  ⋅  ⋅  ⋅  ⋅  ⋅  ⋅  ⋅  ⋅ \n",
            " ⋅  ⋅  ⋅ ###### ⋅  ⋅  ⋅  ⋅  ⋅  ⋅  ⋅  ⋅ ###### ⋅  ⋅  ⋅  ⋅  ⋅  ⋅  ⋅  ⋅  ⋅  ⋅  ⋅  ⋅  ⋅  ⋅  ⋅ \n",
            " ⋅  ⋅  ⋅ ###### ⋅  ⋅  ⋅  ⋅  ⋅  ⋅  ⋅  ⋅ ###### ⋅  ⋅  ⋅  ⋅  ⋅  ⋅  ⋅  ⋅  ⋅  ⋅  ⋅  ⋅  ⋅  ⋅  ⋅ \n",
            " ⋅  ⋅  ⋅  ⋅  ⋅  ⋅  ⋅  ⋅  ⋅  ⋅  ⋅  ⋅  ⋅ ###### ⋅  ⋅  ⋅  ⋅  ⋅  ⋅  ⋅  ⋅  ⋅  ⋅  ⋅  ⋅  ⋅  ⋅  ⋅ \n",
            " ⋅  ⋅  ⋅  ⋅  ⋅  ⋅  ⋅  ⋅  ⋅  ⋅  ⋅  ⋅  ⋅ ###### ⋅  ⋅  ⋅  ⋅  ⋅  ⋅  ⋅  ⋅  ⋅  ⋅  ⋅  ⋅  ⋅  ⋅  ⋅ \n",
            " ⋅  ⋅  ⋅  ⋅  ⋅  ⋅  ⋅  ⋅  ⋅  ⋅  ⋅  ⋅  ⋅ ###### ⋅  ⋅  ⋅  ⋅  ⋅  ⋅  ⋅  ⋅  ⋅  ⋅  ⋅  ⋅  ⋅  ⋅  ⋅ \n",
            "------------------------------------------------------------------------------------------\n"
          ]
        }
      ],
      "source": [
        "# Sample code from https://www.redblobgames.com/pathfinding/a-star/\n",
        "# Copyright 2014 Red Blob Games <redblobgames@gmail.com>\n",
        "#\n",
        "# Feel free to use this code in your own projects, including commercial projects\n",
        "# License: Apache v2.0 <http://www.apache.org/licenses/LICENSE-2.0.html>\n",
        "\n",
        "from __future__ import annotations\n",
        "# some of these types are deprecated: https://www.python.org/dev/peps/pep-0585/\n",
        "from typing import Protocol, Iterator, Tuple, TypeVar, Optional\n",
        "T = TypeVar('T')\n",
        "\n",
        "Location = TypeVar('Location')\n",
        "class Graph(Protocol):\n",
        "    def neighbors(self, id: Location) -> list[Location]: pass\n",
        "\n",
        "class SimpleGraph:\n",
        "    def __init__(self):\n",
        "        self.edges: dict[Location, list[Location]] = {}\n",
        "\n",
        "    def neighbors(self, id: Location) -> list[Location]:\n",
        "        return self.edges[id]\n",
        "\n",
        "import collections\n",
        "\n",
        "# utility functions for dealing with square grids\n",
        "def from_id_width(id, width):\n",
        "    return (id % width, id // width)\n",
        "\n",
        "def draw_tile(graph, id, style):\n",
        "    r = \" ⋅ \"\n",
        "    if id in graph.swamps: r = \"⋅⋅⋅\"\n",
        "    if 'number' in style and id in style['number']: r = \" %-2d\" % style['number'][id]\n",
        "    if 'point_to' in style and style['point_to'].get(id, None) is not None:\n",
        "        (x1, y1) = id\n",
        "        (x2, y2) = style['point_to'][id]\n",
        "        if x2 == x1 + 1: r = \" > \"\n",
        "        if x2 == x1 - 1: r = \" < \"\n",
        "        if y2 == y1 + 1: r = \" ∨ \"\n",
        "        if y2 == y1 - 1: r = \" ∧ \"\n",
        "    if 'path' in style and id in style['path']:   r = \" @ \"\n",
        "    if 'start' in style and id == style['start']: r = \" S \"\n",
        "    if 'goal' in style and id == style['goal']:   r = \" G \"\n",
        "    if id in graph.walls: r = \"###\"\n",
        "    return r\n",
        "\n",
        "def draw_grid(graph, **style):\n",
        "    print(\"___\" * graph.width)\n",
        "    for y in range(graph.height):\n",
        "        for x in range(graph.width):\n",
        "            print(\"%s\" % draw_tile(graph, (x, y), style), end=\"\")\n",
        "        print()\n",
        "    print(\"---\" * graph.width)\n",
        "\n",
        "# data from main article\n",
        "DIAGRAM1_WALLS = [from_id_width(id, width=30) for id in [21,22,51,52,81,82,93,94,111,112,123,124,133,134,141,142,153,154,163,164,171,172,173,174,175,183,184,193,194,201,202,203,204,205,213,214,223,224,243,244,253,254,273,274,283,284,303,304,313,314,333,334,343,344,373,374,403,404,433,434]]\n",
        "GridLocation = Tuple[int, int]\n",
        "\n",
        "class SquareGrid:\n",
        "    def __init__(self, width: int, height: int):\n",
        "        self.width = width\n",
        "        self.height = height\n",
        "        self.walls: list[GridLocation] = []\n",
        "        self.swamps: list[GridLocation] = []\n",
        "\n",
        "    def in_bounds(self, id: GridLocation) -> bool:\n",
        "        (x, y) = id\n",
        "        return 0 <= x < self.width and 0 <= y < self.height\n",
        "\n",
        "    def passable(self, id: GridLocation) -> bool:\n",
        "        return id not in self.walls\n",
        "\n",
        "    def neighbors(self, id: GridLocation) -> Iterator[GridLocation]:\n",
        "        (x, y) = id\n",
        "        neighbors = [(x+1, y), (x-1, y), (x, y-1), (x, y+1)] # E W N S\n",
        "        # see \"Ugly paths\" section for an explanation:\n",
        "        if (x + y) % 2 == 0: neighbors.reverse() # S N W E\n",
        "        results = filter(self.in_bounds, neighbors)\n",
        "        results = filter(self.passable, results)\n",
        "        return results\n",
        "\n",
        "def reconstruct_path(came_from: dict[Location, Location],\n",
        "                    start: Location, goal: Location) -> list[Location]:\n",
        "\n",
        "    current: Location = goal\n",
        "    path: list[Location] = []\n",
        "    if goal not in came_from: # no path was found\n",
        "        return []\n",
        "    while current != start:\n",
        "        path.append(current)\n",
        "        current = came_from[current]\n",
        "    path.append(start) # optional\n",
        "    path.reverse() # optional\n",
        "    return path\n",
        "\n",
        "g = SquareGrid(30, 15)\n",
        "g.walls = DIAGRAM1_WALLS\n",
        "\n",
        "start = (8, 7)\n",
        "goal = (18, 8)\n",
        "\n",
        "draw_grid(g, start=start, goal=goal)"
      ]
    },
    {
      "cell_type": "markdown",
      "metadata": {
        "id": "WBT0fscjjURW"
      },
      "source": [
        "Uninformed Search"
      ]
    },
    {
      "cell_type": "code",
      "execution_count": 3,
      "metadata": {
        "id": "eiHg-VDej5vn"
      },
      "outputs": [],
      "source": [
        "class FIFO:\n",
        "    \"\"\"A simple queue implementation using `collections.deque`.\"\"\"\n",
        "    def __init__(self) -> None:\n",
        "        pass\n",
        "\n",
        "def breadth_first_search(graph: Graph, start: Location, goal: Location):\n",
        "    pass"
      ]
    },
    {
      "cell_type": "code",
      "execution_count": 4,
      "metadata": {
        "id": "DIyHqQZEjyEv"
      },
      "outputs": [
        {
          "name": "stdout",
          "output_type": "stream",
          "text": [
            "__________________________________________________________________________________________\n"
          ]
        },
        {
          "ename": "AttributeError",
          "evalue": "'NoneType' object has no attribute 'get'",
          "output_type": "error",
          "traceback": [
            "\u001b[0;31m---------------------------------------------------------------------------\u001b[0m",
            "\u001b[0;31mAttributeError\u001b[0m                            Traceback (most recent call last)",
            "Cell \u001b[0;32mIn[4], line 3\u001b[0m\n\u001b[1;32m      1\u001b[0m \u001b[38;5;66;03m#test bfs\u001b[39;00m\n\u001b[1;32m      2\u001b[0m parents \u001b[38;5;241m=\u001b[39m breadth_first_search(g, start, goal)\n\u001b[0;32m----> 3\u001b[0m draw_grid(g, point_to\u001b[38;5;241m=\u001b[39mparents, start\u001b[38;5;241m=\u001b[39mstart, goal\u001b[38;5;241m=\u001b[39mgoal)\n\u001b[1;32m      4\u001b[0m draw_grid(g, path\u001b[38;5;241m=\u001b[39mreconstruct_path(parents, start\u001b[38;5;241m=\u001b[39mstart, goal\u001b[38;5;241m=\u001b[39mgoal),start\u001b[38;5;241m=\u001b[39mstart, goal\u001b[38;5;241m=\u001b[39mgoal)\n",
            "Cell \u001b[0;32mIn[2], line 50\u001b[0m, in \u001b[0;36mdraw_grid\u001b[0;34m(graph, **style)\u001b[0m\n\u001b[1;32m     48\u001b[0m \u001b[38;5;28;01mfor\u001b[39;00m y \u001b[38;5;129;01min\u001b[39;00m \u001b[38;5;28mrange\u001b[39m(graph\u001b[38;5;241m.\u001b[39mheight):\n\u001b[1;32m     49\u001b[0m     \u001b[38;5;28;01mfor\u001b[39;00m x \u001b[38;5;129;01min\u001b[39;00m \u001b[38;5;28mrange\u001b[39m(graph\u001b[38;5;241m.\u001b[39mwidth):\n\u001b[0;32m---> 50\u001b[0m         \u001b[38;5;28mprint\u001b[39m(\u001b[38;5;124m\"\u001b[39m\u001b[38;5;132;01m%s\u001b[39;00m\u001b[38;5;124m\"\u001b[39m \u001b[38;5;241m%\u001b[39m draw_tile(graph, (x, y), style), end\u001b[38;5;241m=\u001b[39m\u001b[38;5;124m\"\u001b[39m\u001b[38;5;124m\"\u001b[39m)\n\u001b[1;32m     51\u001b[0m     \u001b[38;5;28mprint\u001b[39m()\n\u001b[1;32m     52\u001b[0m \u001b[38;5;28mprint\u001b[39m(\u001b[38;5;124m\"\u001b[39m\u001b[38;5;124m---\u001b[39m\u001b[38;5;124m\"\u001b[39m \u001b[38;5;241m*\u001b[39m graph\u001b[38;5;241m.\u001b[39mwidth)\n",
            "Cell \u001b[0;32mIn[2], line 33\u001b[0m, in \u001b[0;36mdraw_tile\u001b[0;34m(graph, id, style)\u001b[0m\n\u001b[1;32m     31\u001b[0m \u001b[38;5;28;01mif\u001b[39;00m \u001b[38;5;28mid\u001b[39m \u001b[38;5;129;01min\u001b[39;00m graph\u001b[38;5;241m.\u001b[39mswamps: r \u001b[38;5;241m=\u001b[39m \u001b[38;5;124m\"\u001b[39m\u001b[38;5;124m⋅⋅⋅\u001b[39m\u001b[38;5;124m\"\u001b[39m\n\u001b[1;32m     32\u001b[0m \u001b[38;5;28;01mif\u001b[39;00m \u001b[38;5;124m'\u001b[39m\u001b[38;5;124mnumber\u001b[39m\u001b[38;5;124m'\u001b[39m \u001b[38;5;129;01min\u001b[39;00m style \u001b[38;5;129;01mand\u001b[39;00m \u001b[38;5;28mid\u001b[39m \u001b[38;5;129;01min\u001b[39;00m style[\u001b[38;5;124m'\u001b[39m\u001b[38;5;124mnumber\u001b[39m\u001b[38;5;124m'\u001b[39m]: r \u001b[38;5;241m=\u001b[39m \u001b[38;5;124m\"\u001b[39m\u001b[38;5;124m \u001b[39m\u001b[38;5;132;01m%-2d\u001b[39;00m\u001b[38;5;124m\"\u001b[39m \u001b[38;5;241m%\u001b[39m style[\u001b[38;5;124m'\u001b[39m\u001b[38;5;124mnumber\u001b[39m\u001b[38;5;124m'\u001b[39m][\u001b[38;5;28mid\u001b[39m]\n\u001b[0;32m---> 33\u001b[0m \u001b[38;5;28;01mif\u001b[39;00m \u001b[38;5;124m'\u001b[39m\u001b[38;5;124mpoint_to\u001b[39m\u001b[38;5;124m'\u001b[39m \u001b[38;5;129;01min\u001b[39;00m style \u001b[38;5;129;01mand\u001b[39;00m style[\u001b[38;5;124m'\u001b[39m\u001b[38;5;124mpoint_to\u001b[39m\u001b[38;5;124m'\u001b[39m]\u001b[38;5;241m.\u001b[39mget(\u001b[38;5;28mid\u001b[39m, \u001b[38;5;28;01mNone\u001b[39;00m) \u001b[38;5;129;01mis\u001b[39;00m \u001b[38;5;129;01mnot\u001b[39;00m \u001b[38;5;28;01mNone\u001b[39;00m:\n\u001b[1;32m     34\u001b[0m     (x1, y1) \u001b[38;5;241m=\u001b[39m \u001b[38;5;28mid\u001b[39m\n\u001b[1;32m     35\u001b[0m     (x2, y2) \u001b[38;5;241m=\u001b[39m style[\u001b[38;5;124m'\u001b[39m\u001b[38;5;124mpoint_to\u001b[39m\u001b[38;5;124m'\u001b[39m][\u001b[38;5;28mid\u001b[39m]\n",
            "\u001b[0;31mAttributeError\u001b[0m: 'NoneType' object has no attribute 'get'"
          ]
        }
      ],
      "source": [
        "#test bfs\n",
        "parents = breadth_first_search(g, start, goal)\n",
        "draw_grid(g, point_to=parents, start=start, goal=goal)\n",
        "draw_grid(g, path=reconstruct_path(parents, start=start, goal=goal),start=start, goal=goal)"
      ]
    },
    {
      "cell_type": "code",
      "execution_count": null,
      "metadata": {
        "id": "DHxtnmp0kBt2"
      },
      "outputs": [],
      "source": []
    },
    {
      "cell_type": "markdown",
      "metadata": {
        "id": "tsYCVs17jXza"
      },
      "source": [
        "Informed Search"
      ]
    },
    {
      "cell_type": "code",
      "execution_count": null,
      "metadata": {
        "colab": {
          "base_uri": "https://localhost:8080/"
        },
        "id": "CsbkilBwjXHq",
        "outputId": "19b51dca-853c-4a00-d184-916f4adeab05"
      },
      "outputs": [
        {
          "name": "stdout",
          "output_type": "stream",
          "text": [
            "_________________________________\n",
            " ⋅  ⋅  ⋅  ⋅  ⋅  ⋅  ⋅  ⋅  ⋅  ⋅  ⋅ \n",
            " ⋅  ⋅  ⋅  ⋅ ⋅⋅⋅⋅⋅⋅ ⋅  ⋅  ⋅  ⋅  ⋅ \n",
            " ⋅  ⋅  ⋅  ⋅ ⋅⋅⋅⋅⋅⋅⋅⋅⋅ ⋅  ⋅  ⋅  ⋅ \n",
            " ⋅  ⋅  ⋅  ⋅ ⋅⋅⋅⋅⋅⋅⋅⋅⋅⋅⋅⋅ G  ⋅  ⋅ \n",
            " ⋅  S  ⋅ ⋅⋅⋅⋅⋅⋅⋅⋅⋅⋅⋅⋅⋅⋅⋅ ⋅  ⋅  ⋅ \n",
            " ⋅  ⋅  ⋅ ⋅⋅⋅⋅⋅⋅⋅⋅⋅⋅⋅⋅⋅⋅⋅ ⋅  ⋅  ⋅ \n",
            " ⋅  ⋅  ⋅  ⋅ ⋅⋅⋅⋅⋅⋅⋅⋅⋅ ⋅  ⋅  ⋅  ⋅ \n",
            " ⋅ #########⋅⋅⋅⋅⋅⋅⋅⋅⋅ ⋅  ⋅  ⋅  ⋅ \n",
            " ⋅ #########⋅⋅⋅⋅⋅⋅ ⋅  ⋅  ⋅  ⋅  ⋅ \n",
            " ⋅  ⋅  ⋅  ⋅  ⋅  ⋅  ⋅  ⋅  ⋅  ⋅  ⋅ \n",
            "---------------------------------\n"
          ]
        }
      ],
      "source": [
        "from os import get_blocking\n",
        "class WeightedGraph(Graph):\n",
        "    def cost(self, from_id: Location, to_id: Location) -> float: pass\n",
        "\n",
        "class GridWithWeights(SquareGrid):\n",
        "    def __init__(self, width: int, height: int):\n",
        "        super().__init__(width, height)\n",
        "        self.weights: dict[GridLocation, float] = {}\n",
        "\n",
        "    def cost(self, from_node: GridLocation, to_node: GridLocation) -> float:\n",
        "        if to_node in self.swamps:\n",
        "            return self.weights.get(to_node, 5)\n",
        "        return self.weights.get(to_node, 1)\n",
        "\n",
        "\n",
        "D4_walls = [(1, 7), (1, 8), (2, 7), (2, 8), (3, 7), (3, 8)]\n",
        "D4_swamp = {loc: 5 for loc in [(3, 4), (3, 5), (4, 1), (4, 2),\n",
        "                                       (4, 3), (4, 4), (4, 5), (4, 6),\n",
        "                                       (4, 7), (4, 8), (5, 1), (5, 2),\n",
        "                                       (5, 3), (5, 4), (5, 5), (5, 6),\n",
        "                                       (5, 7), (5, 8), (6, 2), (6, 3),\n",
        "                                       (6, 4), (6, 5), (6, 6), (6, 7),\n",
        "                                       (7, 3), (7, 4), (7, 5)]}\n",
        "\n",
        "\n",
        "start, goal = (1, 4), (8, 3)\n",
        "g = GridWithWeights(11, 10)\n",
        "g.walls = D4_walls\n",
        "g.swamps = D4_swamp\n",
        "draw_grid(g, start=start, goal=goal)"
      ]
    },
    {
      "cell_type": "code",
      "execution_count": null,
      "metadata": {
        "id": "JSIpJc3LjmDs"
      },
      "outputs": [],
      "source": []
    }
  ],
  "metadata": {
    "colab": {
      "provenance": []
    },
    "kernelspec": {
      "display_name": "Python 3",
      "name": "python3"
    },
    "language_info": {
      "codemirror_mode": {
        "name": "ipython",
        "version": 3
      },
      "file_extension": ".py",
      "mimetype": "text/x-python",
      "name": "python",
      "nbconvert_exporter": "python",
      "pygments_lexer": "ipython3",
      "version": "3.11.8"
    }
  },
  "nbformat": 4,
  "nbformat_minor": 0
}
