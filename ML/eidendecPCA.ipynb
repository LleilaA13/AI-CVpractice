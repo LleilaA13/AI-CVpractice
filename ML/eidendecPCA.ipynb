{
 "cells": [
  {
   "cell_type": "code",
   "execution_count": null,
   "metadata": {},
   "outputs": [],
   "source": [
    "#import sklearn\n",
    "from sklearn.datasets import fetch_lfw_people\n",
    "faces = fetch_lfw_people(min_faces_per_person=60)\n",
    "print(faces.target_names)\n",
    "print(faces.images.shape)"
   ]
  },
  {
   "cell_type": "code",
   "execution_count": null,
   "metadata": {},
   "outputs": [],
   "source": [
    "# Plot src points and destination points\n",
    "import numpy as np\n",
    "import matplotlib.pyplot as plt\n",
    "fig, axes = plt.subplots(1, 4)\n",
    "fig.set_figheight(20)\n",
    "fig.set_figwidth(20)\n",
    "# apply [Id, Uinv, Sigma, U]\n",
    "Trans = [np.diag((1, 1)), U.T, Sigma, U]\n",
    "titles = ['Init', 'Step 1  Uinv', 'Step 2  Sigma', 'Step 3  U']\n",
    "X_orig = np.array([1, 0])\n",
    "Y_orig = np.array([0, 1])\n",
    "Xss = np.copy(Xs)\n",
    "Yss = np.copy(Ys)\n",
    "for count, (ax, T, title) in enumerate(zip(axes, Trans, titles)):\n",
    "    ax.set_xlim(-limit, limit)\n",
    "    ax.set_ylim(-limit, limit)\n",
    "    ax.set_aspect('equal')\n",
    "    ax.set_title(title)\n",
    "    Xss, Yss = linear_map(T, Xss, Yss)\n",
    "    X_orig, Y_orig = linear_map(T, X_orig, Y_orig)\n",
    "    if count == 0:\n",
    "        plot_points(ax, Xs, Ys, col='blue')\n",
    "    unit_v = np.stack((X_orig, Y_orig), axis=1)\n",
    "    plotVectors(ax, unit_v, ['blue', 'red'])\n",
    "    plot_points(ax, Xss, Yss, col='green')"
   ]
  }
 ],
 "metadata": {
  "kernelspec": {
   "display_name": "base",
   "language": "python",
   "name": "python3"
  },
  "language_info": {
   "codemirror_mode": {
    "name": "ipython",
    "version": 3
   },
   "file_extension": ".py",
   "mimetype": "text/x-python",
   "name": "python",
   "nbconvert_exporter": "python",
   "pygments_lexer": "ipython3",
   "version": "3.11.8"
  }
 },
 "nbformat": 4,
 "nbformat_minor": 2
}
